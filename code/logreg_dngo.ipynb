{
 "cells": [
  {
   "cell_type": "code",
   "execution_count": 1,
   "metadata": {},
   "outputs": [],
   "source": [
    "import numpy as np\n",
    "import matplotlib.pyplot as plt\n",
    "from importlib import reload\n",
    "\n",
    "import torch\n",
    "\n",
    "from pybnn import DNGO\n",
    "from pybnn.util.normalization import zero_mean_unit_var_normalization, zero_mean_unit_var_denormalization\n",
    "\n",
    "import bayes_optimize\n",
    "from bayes_optimize import BayesOptimize \n",
    "\n",
    "import logreg_problem\n",
    "from logreg_problem import get_hyp, prepare_D_surrogate\n",
    "\n",
    "rng = np.random.RandomState(42)"
   ]
  },
  {
   "cell_type": "code",
   "execution_count": 2,
   "metadata": {},
   "outputs": [
    {
     "name": "stderr",
     "output_type": "stream",
     "text": [
      "\r",
      "  0%|          | 0/5 [00:00<?, ?it/s]"
     ]
    },
    {
     "name": "stdout",
     "output_type": "stream",
     "text": [
      "Hyperparameters to be optimized:  C ,intercept_scaling\n",
      "Training LogisticRegression model...\n"
     ]
    },
    {
     "name": "stderr",
     "output_type": "stream",
     "text": [
      "\r",
      " 20%|██        | 1/5 [04:22<17:30, 262.53s/it]"
     ]
    },
    {
     "name": "stdout",
     "output_type": "stream",
     "text": [
      "Total training time:  262.0809373855591\n",
      "Hyperparameters to be optimized:  C ,intercept_scaling\n",
      "Training LogisticRegression model...\n"
     ]
    },
    {
     "name": "stderr",
     "output_type": "stream",
     "text": [
      "\r",
      " 40%|████      | 2/5 [16:10<19:48, 396.28s/it]"
     ]
    },
    {
     "name": "stdout",
     "output_type": "stream",
     "text": [
      "Total training time:  708.0090773105621\n",
      "Hyperparameters to be optimized:  C ,intercept_scaling\n",
      "Training LogisticRegression model...\n"
     ]
    },
    {
     "name": "stderr",
     "output_type": "stream",
     "text": [
      "\r",
      " 60%|██████    | 3/5 [30:49<18:02, 541.10s/it]"
     ]
    },
    {
     "name": "stdout",
     "output_type": "stream",
     "text": [
      "Total training time:  878.6612360477448\n",
      "Hyperparameters to be optimized:  C ,intercept_scaling\n",
      "Training LogisticRegression model...\n"
     ]
    },
    {
     "name": "stderr",
     "output_type": "stream",
     "text": [
      "\r",
      " 80%|████████  | 4/5 [46:42<11:04, 664.54s/it]"
     ]
    },
    {
     "name": "stdout",
     "output_type": "stream",
     "text": [
      "Total training time:  952.2165567874908\n",
      "Hyperparameters to be optimized:  C ,intercept_scaling\n",
      "Training LogisticRegression model...\n"
     ]
    },
    {
     "name": "stderr",
     "output_type": "stream",
     "text": [
      "\r",
      "100%|██████████| 5/5 [1:05:43<00:00, 807.34s/it]"
     ]
    },
    {
     "name": "stdout",
     "output_type": "stream",
     "text": [
      "Total training time:  1140.1987795829773\n"
     ]
    },
    {
     "name": "stderr",
     "output_type": "stream",
     "text": [
      "\n"
     ]
    }
   ],
   "source": [
    "D_surrogate = prepare_D_surrogate(5)"
   ]
  },
  {
   "cell_type": "code",
   "execution_count": 3,
   "metadata": {},
   "outputs": [],
   "source": [
    "# Test Space\n",
    "a_val = np.linspace(0.1, 10, 50)\n",
    "b_val = np.linspace(0.5, 5, 50)\n",
    "\n",
    "zeta_test = np.array([[a_val[i], b_val[i]] for i in range(len(a_val)) ])\n",
    "zeta_test = zeta_test.reshape((len(a_val), 2))"
   ]
  },
  {
   "cell_type": "code",
   "execution_count": 4,
   "metadata": {},
   "outputs": [],
   "source": [
    "# DNGO Model\n",
    "dngo_model = DNGO(do_mcmc=False)"
   ]
  },
  {
   "cell_type": "code",
   "execution_count": 5,
   "metadata": {},
   "outputs": [],
   "source": [
    "bo = BayesOptimize(D_task=None, D_surrogate=(D_surrogate[0], D_surrogate[1]), \n",
    "                   task_oracle_file=logreg_problem, dngo_model=dngo_model, num_epochs=10, zeta_test=zeta_test)"
   ]
  },
  {
   "cell_type": "code",
   "execution_count": null,
   "metadata": {},
   "outputs": [
    {
     "name": "stderr",
     "output_type": "stream",
     "text": [
      "  0%|          | 0/10 [00:00<?, ?it/s]/home/piyush/miniconda3/envs/vision/lib/python3.6/site-packages/scipy/optimize/optimize.py:570: RuntimeWarning: invalid value encountered in subtract\n",
      "  numpy.max(numpy.abs(fsim[0] - fsim[1:])) <= fatol):\n"
     ]
    },
    {
     "name": "stdout",
     "output_type": "stream",
     "text": [
      "Warning: Maximum number of function evaluations has been exceeded.\n",
      "Hyperparameters to be optimized:  C ,intercept_scaling\n",
      "Training LogisticRegression model...\n"
     ]
    }
   ],
   "source": [
    "a = bo.optimal_hyperparameters()"
   ]
  },
  {
   "cell_type": "code",
   "execution_count": 13,
   "metadata": {},
   "outputs": [
    {
     "name": "stdout",
     "output_type": "stream",
     "text": [
      "Hyperparameters to be optimized:  C ,intercept_scaling\n"
     ]
    }
   ],
   "source": [
    "h = get_hyp([5.0, 2.0])\n",
    "task = logreg_problem.Task(h)"
   ]
  },
  {
   "cell_type": "code",
   "execution_count": 14,
   "metadata": {},
   "outputs": [
    {
     "name": "stdout",
     "output_type": "stream",
     "text": [
      "Training LogisticRegression model...\n",
      "Total training time:  1200.472690820694\n"
     ]
    },
    {
     "data": {
      "text/plain": [
       "0.9151"
      ]
     },
     "execution_count": 14,
     "metadata": {},
     "output_type": "execute_result"
    }
   ],
   "source": [
    "task.metric()"
   ]
  },
  {
   "cell_type": "code",
   "execution_count": null,
   "metadata": {},
   "outputs": [],
   "source": [
    "h = get_hyp(list(a))\n",
    "task = logreg_problem.Task(h)\n",
    "\n",
    "task.metric()"
   ]
  },
  {
   "cell_type": "code",
   "execution_count": null,
   "metadata": {},
   "outputs": [],
   "source": []
  }
 ],
 "metadata": {
  "kernelspec": {
   "display_name": "Python 3",
   "language": "python",
   "name": "python3"
  },
  "language_info": {
   "codemirror_mode": {
    "name": "ipython",
    "version": 3
   },
   "file_extension": ".py",
   "mimetype": "text/x-python",
   "name": "python",
   "nbconvert_exporter": "python",
   "pygments_lexer": "ipython3",
   "version": "3.6.8"
  }
 },
 "nbformat": 4,
 "nbformat_minor": 2
}
