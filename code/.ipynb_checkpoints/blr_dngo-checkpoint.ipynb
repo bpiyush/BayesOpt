{
 "cells": [
  {
   "cell_type": "code",
   "execution_count": 1,
   "metadata": {},
   "outputs": [],
   "source": [
    "import numpy as np\n",
    "import matplotlib.pyplot as plt\n",
    "from importlib import reload\n",
    "\n",
    "import torch\n",
    "\n",
    "from pybnn import DNGO\n",
    "from pybnn.util.normalization import zero_mean_unit_var_normalization, zero_mean_unit_var_denormalization\n",
    "\n",
    "import bayes_optimize\n",
    "from bayes_optimize import BayesOptimize \n",
    "\n",
    "import blr_problem\n",
    "from blr_problem import get_hyp, prepare_D_surrogate\n",
    "\n",
    "rng = np.random.RandomState(42)"
   ]
  },
  {
   "cell_type": "code",
   "execution_count": 2,
   "metadata": {},
   "outputs": [
    {
     "name": "stdout",
     "output_type": "stream",
     "text": [
      "Hyperparameters to be optimized:  K ,beta ,lambda\n",
      "Hyperparameters to be optimized:  K ,beta ,lambda\n",
      "Hyperparameters to be optimized:  K ,beta ,lambda\n",
      "Hyperparameters to be optimized:  K ,beta ,lambda\n",
      "Hyperparameters to be optimized:  K ,beta ,lambda\n",
      "Hyperparameters to be optimized:  K ,beta ,lambda\n",
      "Hyperparameters to be optimized:  K ,beta ,lambda\n",
      "Hyperparameters to be optimized:  K ,beta ,lambda\n"
     ]
    }
   ],
   "source": [
    "D_surrogate = prepare_D_surrogate()"
   ]
  },
  {
   "cell_type": "code",
   "execution_count": 3,
   "metadata": {},
   "outputs": [],
   "source": [
    "(X_train, y_train), (X_cval, y_cval), (X_test, y_test) = blr_problem.load_data()"
   ]
  },
  {
   "cell_type": "code",
   "execution_count": 4,
   "metadata": {},
   "outputs": [
    {
     "name": "stdout",
     "output_type": "stream",
     "text": [
      "Hyperparameters to be optimized:  K ,beta ,lambda\n",
      "Hyperparameters to be optimized:  K ,beta ,lambda\n",
      "Hyperparameters to be optimized:  K ,beta ,lambda\n",
      "Hyperparameters to be optimized:  K ,beta ,lambda\n",
      "Hyperparameters to be optimized:  K ,beta ,lambda\n",
      "Hyperparameters to be optimized:  K ,beta ,lambda\n",
      "Hyperparameters to be optimized:  K ,beta ,lambda\n",
      "Hyperparameters to be optimized:  K ,beta ,lambda\n",
      "Hyperparameters to be optimized:  K ,beta ,lambda\n",
      "Hyperparameters to be optimized:  K ,beta ,lambda\n",
      "Hyperparameters to be optimized:  K ,beta ,lambda\n",
      "Hyperparameters to be optimized:  K ,beta ,lambda\n",
      "Hyperparameters to be optimized:  K ,beta ,lambda\n",
      "Hyperparameters to be optimized:  K ,beta ,lambda\n",
      "Hyperparameters to be optimized:  K ,beta ,lambda\n",
      "Hyperparameters to be optimized:  K ,beta ,lambda\n",
      "Hyperparameters to be optimized:  K ,beta ,lambda\n",
      "Hyperparameters to be optimized:  K ,beta ,lambda\n",
      "Hyperparameters to be optimized:  K ,beta ,lambda\n",
      "Hyperparameters to be optimized:  K ,beta ,lambda\n",
      "Hyperparameters to be optimized:  K ,beta ,lambda\n",
      "Hyperparameters to be optimized:  K ,beta ,lambda\n",
      "Hyperparameters to be optimized:  K ,beta ,lambda\n",
      "Hyperparameters to be optimized:  K ,beta ,lambda\n",
      "Hyperparameters to be optimized:  K ,beta ,lambda\n"
     ]
    }
   ],
   "source": [
    "# Test Space\n",
    "a_val = np.random.randint(1, 10, 25)\n",
    "b_val = np.linspace(0.5, 10, 25)\n",
    "c_val = np.linspace(0.5, 2.5, 25)\n",
    "\n",
    "zeta_test = np.array([[a_val[i], b_val[i], c_val[i]] for i in range(len(a_val)) ])\n",
    "zeta_test = zeta_test.reshape((len(a_val), 3))\n",
    "eta_test = []\n",
    "\n",
    "for x in zeta_test:\n",
    "    task = blr_problem.Task(hyperparams=get_hyp(x))\n",
    "    eta_test.append(task.metric(X_cval, y_cval, X_train, y_train))\n",
    "    \n",
    "\n",
    "# DNGO Model\n",
    "dngo_model = DNGO(do_mcmc=False)"
   ]
  },
  {
   "cell_type": "code",
   "execution_count": 20,
   "metadata": {},
   "outputs": [],
   "source": [
    "bo = BayesOptimize(D_task=None, D_surrogate=(D_surrogate[0], D_surrogate[1]), \n",
    "                   task_oracle_file=blr_problem, dngo_model=dngo_model, num_epochs=3, zeta_test=zeta_test)"
   ]
  },
  {
   "cell_type": "code",
   "execution_count": 21,
   "metadata": {},
   "outputs": [],
   "source": [
    "D_task = (X_train, y_train), (X_cval, y_cval), (X_test, y_test)"
   ]
  },
  {
   "cell_type": "code",
   "execution_count": 22,
   "metadata": {},
   "outputs": [
    {
     "name": "stderr",
     "output_type": "stream",
     "text": [
      " 33%|███▎      | 1/3 [00:00<00:01,  1.78it/s]"
     ]
    },
    {
     "name": "stdout",
     "output_type": "stream",
     "text": [
      "Optimization terminated successfully.\n",
      "         Current function value: 6.845109\n",
      "         Iterations: 61\n",
      "         Function evaluations: 143\n",
      "Hyperparameters to be optimized:  K ,beta ,lambda\n"
     ]
    },
    {
     "name": "stderr",
     "output_type": "stream",
     "text": [
      "\r",
      " 67%|██████▋   | 2/3 [00:01<00:00,  1.72it/s]"
     ]
    },
    {
     "name": "stdout",
     "output_type": "stream",
     "text": [
      "Optimization terminated successfully.\n",
      "         Current function value: 7.441142\n",
      "         Iterations: 76\n",
      "         Function evaluations: 156\n",
      "Hyperparameters to be optimized:  K ,beta ,lambda\n"
     ]
    },
    {
     "name": "stderr",
     "output_type": "stream",
     "text": [
      "\r",
      "100%|██████████| 3/3 [00:01<00:00,  1.74it/s]"
     ]
    },
    {
     "name": "stdout",
     "output_type": "stream",
     "text": [
      "Optimization terminated successfully.\n",
      "         Current function value: 9.709572\n",
      "         Iterations: 78\n",
      "         Function evaluations: 154\n",
      "Hyperparameters to be optimized:  K ,beta ,lambda\n"
     ]
    },
    {
     "name": "stderr",
     "output_type": "stream",
     "text": [
      "\n"
     ]
    },
    {
     "data": {
      "text/plain": [
       "array([3., 4., 1.])"
      ]
     },
     "execution_count": 22,
     "metadata": {},
     "output_type": "execute_result"
    }
   ],
   "source": [
    "bo.optimal_hyperparameters(D_task=D_task, task_name=\"BLR\")"
   ]
  },
  {
   "cell_type": "code",
   "execution_count": null,
   "metadata": {},
   "outputs": [],
   "source": []
  },
  {
   "cell_type": "code",
   "execution_count": null,
   "metadata": {},
   "outputs": [],
   "source": []
  }
 ],
 "metadata": {
  "kernelspec": {
   "display_name": "Python 3",
   "language": "python",
   "name": "python3"
  },
  "language_info": {
   "codemirror_mode": {
    "name": "ipython",
    "version": 3
   },
   "file_extension": ".py",
   "mimetype": "text/x-python",
   "name": "python",
   "nbconvert_exporter": "python",
   "pygments_lexer": "ipython3",
   "version": "3.6.8"
  }
 },
 "nbformat": 4,
 "nbformat_minor": 2
}
