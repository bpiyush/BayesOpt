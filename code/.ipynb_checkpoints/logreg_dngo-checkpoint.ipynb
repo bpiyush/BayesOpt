{
 "cells": [
  {
   "cell_type": "code",
   "execution_count": 1,
   "metadata": {},
   "outputs": [],
   "source": [
    "import numpy as np\n",
    "import matplotlib.pyplot as plt\n",
    "from importlib import reload\n",
    "\n",
    "import torch\n",
    "\n",
    "from pybnn import DNGO\n",
    "from pybnn.util.normalization import zero_mean_unit_var_normalization, zero_mean_unit_var_denormalization\n",
    "\n",
    "import bayes_optimize\n",
    "from bayes_optimize import BayesOptimize \n",
    "\n",
    "import logreg_problem\n",
    "from logreg_problem import get_hyp, prepare_D_surrogate\n",
    "\n",
    "rng = np.random.RandomState(42)"
   ]
  },
  {
   "cell_type": "code",
   "execution_count": null,
   "metadata": {},
   "outputs": [
    {
     "name": "stdout",
     "output_type": "stream",
     "text": [
      "Hyperparameters to be optimized:  C ,intercept_scaling\n",
      "Training LogisticRegression model...\n",
      "Hyperparameters to be optimized:  C ,intercept_scaling\n",
      "Training LogisticRegression model...\n"
     ]
    }
   ],
   "source": [
    "D_surrogate = prepare_D_surrogate(2)"
   ]
  },
  {
   "cell_type": "code",
   "execution_count": null,
   "metadata": {},
   "outputs": [],
   "source": [
    "# Test Space\n",
    "a_val = np.random.randint(0.1, 5, 25)\n",
    "b_val = np.linspace(0.5, 2, 25)\n",
    "\n",
    "zeta_test = np.array([[a_val[i], b_val[i]] for i in range(len(a_val)) ])\n",
    "zeta_test = zeta_test.reshape((len(a_val), 2))"
   ]
  },
  {
   "cell_type": "code",
   "execution_count": null,
   "metadata": {},
   "outputs": [],
   "source": [
    "# DNGO Model\n",
    "dngo_model = DNGO(do_mcmc=False)"
   ]
  },
  {
   "cell_type": "code",
   "execution_count": null,
   "metadata": {},
   "outputs": [],
   "source": [
    "bo = BayesOptimize(D_task=None, D_surrogate=(D_surrogate[0], D_surrogate[1]), \n",
    "                   task_oracle_file=logreg_problem, dngo_model=dngo_model, num_epochs=3, zeta_test=zeta_test)"
   ]
  },
  {
   "cell_type": "code",
   "execution_count": null,
   "metadata": {},
   "outputs": [],
   "source": [
    "bo.optimal_hyperparameters()"
   ]
  }
 ],
 "metadata": {
  "kernelspec": {
   "display_name": "Python 3",
   "language": "python",
   "name": "python3"
  },
  "language_info": {
   "codemirror_mode": {
    "name": "ipython",
    "version": 3
   },
   "file_extension": ".py",
   "mimetype": "text/x-python",
   "name": "python",
   "nbconvert_exporter": "python",
   "pygments_lexer": "ipython3",
   "version": "3.6.8"
  }
 },
 "nbformat": 4,
 "nbformat_minor": 2
}
